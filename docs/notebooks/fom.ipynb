{
 "cells": [
  {
   "cell_type": "markdown",
   "metadata": {},
   "source": [
    "# Figures of Merit in `vipdopt`\n",
    "\n",
    "This notebook serves as a guide to using the figure of merit (FoM) class `FoM`. This\n",
    "class has a number of tools designed to abstract the notion of a FoM.\n",
    "\n",
    "The FoMs in `vipdopt` are based on the adjoint state method.<a name=\"cite_ref-1\"></a>[<sup>[1]</sup>](#cite_note-1)\n",
    "\n",
    "For later cells to work, please run the following block first.\n",
    "\n",
    "\n",
    "<a name=\"cite_note-1\"></a>1. [^](#cite_ref-1) Lalau-Keraly, C. M., Bhargava, S., Miller, O. D. & Yablonovitch, E. Adjoint shape optimization applied to electromagnetic design. Opt. Express 21, 21693 (2013)."
   ]
  },
  {
   "cell_type": "code",
   "execution_count": null,
   "metadata": {},
   "outputs": [],
   "source": [
    "# imports\n",
    "from pathlib import Path\n",
    "import sys  \n",
    "\n",
    "import numpy as np\n",
    "\n",
    "np.set_printoptions(threshold=100)\n",
    "\n",
    "# Get vipdopt directory path from Notebook\n",
    "parent_dir = str(Path().resolve().parents[1])\n",
    "\n",
    "# Add to sys.path\n",
    "sys.path.insert(0, parent_dir)\n",
    "\n",
    "# Imports from vipdopt\n",
    "from vipdopt.optimization import FoM, BayerFilterFoM\n",
    "from vipdopt.simulation import Power, Profile, LumericalSimulation, GaussianSource, DipoleSource, LumericalFDTD\n"
   ]
  },
  {
   "cell_type": "markdown",
   "metadata": {},
   "source": [
    "## Using the `FoM` Class \n",
    "\n",
    "The `FoM` class at its core is defined by two functions:\n",
    "* A function that computes the FoM (`fom_func`)\n",
    "* A function that computes the gradient of the FoM for optimization (`grad_func`)\n",
    "\n",
    "To instantiate a `FoM` object, these two functions will need to be provided as well as\n",
    "a number of other arguments:\n",
    "* Which polarization to use out of TE, TM, or TE + TM (`polarization`)\n",
    "* A list of sources to enable in the forward / adjoint simulations (`fwd_srcs` / `adj_srcs`)\n",
    "* A list of monitors in the forward / adjoint simulations from which data will be accessed in computing the FoM (`fwd_monitors` / `adj_monitors`)\n",
    "* A list of the indices of frequencies being minimized / maximized in the optimization (`pos_max_freqs` / `neg_min_freqs`)\n",
    "\n",
    "Note that monitors will output data of shape N x ... x L where L is the total number of\n",
    "frequencies. So specifying that `pos_max_freqs=range(L)` is equivalent to saying that\n",
    "we're maximizing over every frequency.\n",
    "\n",
    "In the following example, we make use of the `BayerFilterFoM` subclass, which has\n",
    "pre-defined functions for the FoM and gradient."
   ]
  },
  {
   "cell_type": "code",
   "execution_count": null,
   "metadata": {},
   "outputs": [],
   "source": [
    "# Note: all object names are based on those in \"simulation_example.json\"\n",
    "\n",
    "\n",
    "# List of sources needed to make forward / adjoint simulations\n",
    "forward_sources = [\n",
    "    GaussianSource('forward_src_x'),\n",
    "]\n",
    "adjoint_sources = [\n",
    "    GaussianSource('forward_src_x'),\n",
    "    DipoleSource('adjoint_src_0x'),\n",
    "]\n",
    "\n",
    "# Monitors whose data is necessary for computing the FoM\n",
    "forward_monitors = [\n",
    "    Power('focal_monitor_0'),\n",
    "    Power('transmission_monitor_0'),\n",
    "    Profile('design_efield_monitor'),\n",
    "]\n",
    "adjoint_monitors = [\n",
    "    Profile('design_efield_monitor'),\n",
    "]\n",
    "\n",
    "fom = BayerFilterFoM(\n",
    "    polarization='TE',\n",
    "    fwd_srcs=forward_sources,\n",
    "    adj_srcs=adjoint_sources,\n",
    "    fwd_monitors=forward_monitors,\n",
    "    adj_monitors=adjoint_monitors,\n",
    "    pos_max_freqs=list(range(60)),  # We're maximizing all 60 frequencies \n",
    "    neg_min_freqs=[],\n",
    ")"
   ]
  },
  {
   "cell_type": "markdown",
   "metadata": {},
   "source": [
    "Each FoM is also able to create its forward and adjoint simulations given a provided\n",
    "\"base simulation\" to start from. It achieves this by disabling all sources except for\n",
    "those specified, and by replacing its `Monitor`'s with their counterparts in the \n",
    "simulation.\n",
    "\n",
    "So long as the FoM's monitors and sources share a name with a corresponding object in \n",
    "the base simulation, the `create_fwd_sim` and `create_adj_sim` methods will create \n",
    "their respective simulation variants automatically."
   ]
  },
  {
   "cell_type": "code",
   "execution_count": null,
   "metadata": {},
   "outputs": [],
   "source": [
    "base_sim = LumericalSimulation('simulation_example.json')\n",
    "\n",
    "fwd_sim = fom.create_forward_sim(base_sim)[0]  # Access first element, as method returns a list\n",
    "adj_sim = fom.create_adjoint_sim(base_sim)[0]\n",
    "\n",
    "# Run the simulations and save the monitor data\n",
    "fdtd = LumericalFDTD()\n",
    "\n",
    "fdtd.save('fwd_sim.fsp', fwd_sim)\n",
    "fdtd.save('adj_sim.fsp', adj_sim)\n",
    "\n",
    "fdtd.addjob('fwd_sim.fsp')\n",
    "fdtd.addjob('adj_sim.fsp')\n",
    "\n",
    "fdtd.runjobs()\n",
    "fdtd.reformat_monitor_data([fwd_sim, adj_sim])"
   ]
  },
  {
   "cell_type": "markdown",
   "metadata": {},
   "source": [
    "Now that the FoM has been created, and its forward and adjoint simulations have been \n",
    "run, we can finally compute its functions."
   ]
  },
  {
   "cell_type": "code",
   "execution_count": null,
   "metadata": {},
   "outputs": [],
   "source": [
    "f = fom.compute_fom()\n",
    "\n",
    "g = fom.compute_grad()\n",
    "\n",
    "print(f'The FoM is {f}')\n",
    "print(f'The gradient is {g}')"
   ]
  },
  {
   "cell_type": "markdown",
   "metadata": {},
   "source": [
    "### Arithmetic Functions on `FoM`'s"
   ]
  },
  {
   "cell_type": "markdown",
   "metadata": {},
   "source": [
    "### Spectral Weighting and Performance Weighting"
   ]
  },
  {
   "cell_type": "markdown",
   "metadata": {},
   "source": [
    "## Defining a New Figure of Merit\n",
    "\n",
    "The `FoM` class at its core is defined by two functions:\n",
    "* A function that computes the FoM (`fom_func`)\n",
    "* A function that computes the gradient of the FoM for optimization (`grad_func`)\n",
    "\n",
    "That's it! In fact, to implement your own FoM class, all you need to do is provide these\n",
    "two functions and it will be compatible with all other optimization code.\n",
    "\n",
    "In the following examples, we use the following FoM:\n",
    "$$FoM(x) = x^2 \\qquad FoM'(x) = 2 x$$"
   ]
  },
  {
   "cell_type": "code",
   "execution_count": null,
   "metadata": {},
   "outputs": [],
   "source": [
    "def fom_func(x):\n",
    "    return x ** 2\n",
    "\n",
    "def gradient_func(x):\n",
    "    return 2 * x"
   ]
  }
 ],
 "metadata": {
  "kernelspec": {
   "display_name": "venv",
   "language": "python",
   "name": "python3"
  },
  "language_info": {
   "codemirror_mode": {
    "name": "ipython",
    "version": 3
   },
   "file_extension": ".py",
   "mimetype": "text/x-python",
   "name": "python",
   "nbconvert_exporter": "python",
   "pygments_lexer": "ipython3",
   "version": "3.10.5"
  }
 },
 "nbformat": 4,
 "nbformat_minor": 2
}
