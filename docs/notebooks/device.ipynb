{
 "cells": [
  {
   "cell_type": "markdown",
   "metadata": {},
   "source": [
    "# Devices in `vipdopt`\n",
    "\n",
    "The `Device` class is how optical devices are represented in `vipdopt`. A `Device` object contains a 3D voxel-grid design region, with each voxel having its own refractive index, along with a number of helpful methods for interacting with the rest of the code library.\n",
    "\n",
    "\n",
    "TODO:\n",
    "* Filters\n",
    "* initialization parameters\n",
    "* binarization\n",
    "* exporting design\n",
    "* importing into simulation"
   ]
  },
  {
   "cell_type": "markdown",
   "metadata": {},
   "source": []
  }
 ],
 "metadata": {
  "language_info": {
   "name": "python"
  }
 },
 "nbformat": 4,
 "nbformat_minor": 2
}
